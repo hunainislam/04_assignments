{
 "cells": [
  {
   "cell_type": "markdown",
   "metadata": {},
   "source": [
    "01_add_two_numbers"
   ]
  },
  {
   "cell_type": "code",
   "execution_count": null,
   "metadata": {},
   "outputs": [],
   "source": [
    "def main():\n",
    "    print(\"This program adds two numbers.\")\n",
    "    \n",
    "    # Prompt the user to enter the first number and convert it to an integer\n",
    "    num1 = int(input(\"Enter first number: \"))\n",
    "    \n",
    "    # Prompt the user to enter the second number and convert it to an integer\n",
    "    num2 = int(input(\"Enter second number: \"))\n",
    "    \n",
    "    # Calculate the sum of the two numbers\n",
    "    total = num1 + num2\n",
    "    \n",
    "    # Print the total sum\n",
    "    print(\"The total is\", total)\n",
    "\n",
    "\n",
    "if __name__ == '__main__':\n",
    "    main()"
   ]
  },
  {
   "cell_type": "markdown",
   "metadata": {},
   "source": [
    "02_agreement_bot"
   ]
  },
  {
   "cell_type": "code",
   "execution_count": null,
   "metadata": {},
   "outputs": [],
   "source": [
    "def main():\n",
    "    # Ask the user for their favorite animal\n",
    "    animal = input(\"What's your favorite animal? \")\n",
    "\n",
    "    # Respond with the same favorite animal\n",
    "    print(\"My favorite animal is also \" + animal + \"!\")\n",
    "\n",
    "\n",
    "if __name__ == '__main__':\n",
    "    main()\n"
   ]
  },
  {
   "cell_type": "markdown",
   "metadata": {},
   "source": [
    "03_fahrenheit_to_celsius"
   ]
  },
  {
   "cell_type": "code",
   "execution_count": null,
   "metadata": {},
   "outputs": [],
   "source": [
    "def main():\n",
    "    # Prompt the user to enter a temperature in Fahrenheit\n",
    "    fahrenheit = float(input(\"Enter temperature in Fahrenheit: \"))\n",
    "\n",
    "    # Convert Fahrenheit to Celsius using the given formula\n",
    "    celsius = (fahrenheit - 32) * 5.0 / 9.0\n",
    "\n",
    "    # Print the converted temperature\n",
    "    print(\"Temperature:\", fahrenheit, \"F =\", celsius, \"C\")\n",
    "\n",
    "\n",
    "if __name__ == '__main__':\n",
    "    main()"
   ]
  },
  {
   "cell_type": "markdown",
   "metadata": {},
   "source": [
    "04_how_old_are_they"
   ]
  },
  {
   "cell_type": "code",
   "execution_count": null,
   "metadata": {},
   "outputs": [],
   "source": [
    "def main():\n",
    "    # Assign ages based on the given conditions\n",
    "    anton = 21  # Anton's age is 21\n",
    "    beth = anton + 6  # Beth is 6 years older than Anton\n",
    "    chen = beth + 20  # Chen is 20 years older than Beth\n",
    "    drew = chen + anton  # Drew's age is Chen's age plus Anton's age\n",
    "    ethan = chen  # Ethan is the same age as Chen\n",
    "\n",
    "    # Print the ages as per the required format\n",
    "    print(\"Anton is \" + str(anton))\n",
    "    print(\"Beth is \" + str(beth))\n",
    "    print(\"Chen is \" + str(chen))\n",
    "    print(\"Drew is \" + str(drew))\n",
    "    print(\"Ethan is \" + str(ethan))\n",
    "\n",
    "\n",
    "if __name__ == '__main__':\n",
    "    main()"
   ]
  },
  {
   "cell_type": "markdown",
   "metadata": {},
   "source": [
    "05_triangle_perimeter"
   ]
  },
  {
   "cell_type": "code",
   "execution_count": null,
   "metadata": {},
   "outputs": [],
   "source": [
    "def main():\n",
    "    # Prompt the user for the lengths of the sides of the triangle\n",
    "    side1 = float(input(\"What is the length of side 1? \"))\n",
    "    side2 = float(input(\"What is the length of side 2? \"))\n",
    "    side3 = float(input(\"What is the length of side 3? \"))\n",
    "\n",
    "    # Calculate the perimeter by summing all sides\n",
    "    perimeter = side1 + side2 + side3\n",
    "\n",
    "    # Print the perimeter\n",
    "    print(\"The perimeter of the triangle is\", perimeter)\n",
    "\n",
    "\n",
    "if __name__ == '__main__':\n",
    "    main()"
   ]
  },
  {
   "cell_type": "markdown",
   "metadata": {},
   "source": [
    "06_square_number"
   ]
  },
  {
   "cell_type": "code",
   "execution_count": null,
   "metadata": {},
   "outputs": [],
   "source": [
    "def main():\n",
    "    # Ask the user for a number\n",
    "    number = float(input(\"Type a number to see its square: \"))\n",
    "\n",
    "    # Calculate the square of the number\n",
    "    square = number ** 2\n",
    "\n",
    "    # Print the result\n",
    "    print(f\"{number} squared is {square}\")\n",
    "\n",
    "\n",
    "if __name__ == '__main__':\n",
    "    main()"
   ]
  }
 ],
 "metadata": {
  "kernelspec": {
   "display_name": "python12",
   "language": "python",
   "name": "python3"
  },
  "language_info": {
   "name": "python",
   "version": "3.12.3"
  }
 },
 "nbformat": 4,
 "nbformat_minor": 2
}
