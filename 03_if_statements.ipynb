{
 "cells": [
  {
   "cell_type": "markdown",
   "metadata": {},
   "source": [
    "01_print_events"
   ]
  },
  {
   "cell_type": "code",
   "execution_count": null,
   "metadata": {},
   "outputs": [],
   "source": [
    "def main():\n",
    "    # This for-loop starts at 0 and counts up to 19 (for a total of 20 iterations)\n",
    "    for i in range(20):\n",
    "        print(i * 2)  # The ith even number is i * 2\n",
    "   \n",
    "\n",
    "if __name__ == \"__main__\":\n",
    "    main()"
   ]
  },
  {
   "cell_type": "markdown",
   "metadata": {},
   "source": [
    "02_international_voting_age"
   ]
  },
  {
   "cell_type": "code",
   "execution_count": null,
   "metadata": {},
   "outputs": [],
   "source": [
    "# Define the voting age for each country\n",
    "PETURKSBOUIPO_AGE = 16\n",
    "STANLAU_AGE = 25\n",
    "MAYENGUA_AGE = 48\n",
    "\n",
    "def main():\n",
    "    # Get the user's age as input\n",
    "    user_age = int(input(\"How old are you? \"))\n",
    "\n",
    "    # Check if the user can vote in Peturksbouipo\n",
    "    if user_age >= PETURKSBOUIPO_AGE:\n",
    "        print(f\"You can vote in Peturksbouipo where the voting age is {PETURKSBOUIPO_AGE}.\")\n",
    "    else:\n",
    "        print(f\"You cannot vote in Peturksbouipo where the voting age is {PETURKSBOUIPO_AGE}.\")\n",
    "\n",
    "    # Check if the user can vote in Stanlau\n",
    "    if user_age >= STANLAU_AGE:\n",
    "        print(f\"You can vote in Stanlau where the voting age is {STANLAU_AGE}.\")\n",
    "    else:\n",
    "        print(f\"You cannot vote in Stanlau where the voting age is {STANLAU_AGE}.\")\n",
    "\n",
    "    # Check if the user can vote in Mayengua\n",
    "    if user_age >= MAYENGUA_AGE:\n",
    "        print(f\"You can vote in Mayengua where the voting age is {MAYENGUA_AGE}.\")\n",
    "    else:\n",
    "        print(f\"You cannot vote in Mayengua where the voting age is {MAYENGUA_AGE}.\")\n",
    "\n",
    "\n",
    "if __name__ == '__main__':\n",
    "    main()"
   ]
  },
  {
   "cell_type": "markdown",
   "metadata": {},
   "source": [
    "03_leap_year"
   ]
  },
  {
   "cell_type": "code",
   "execution_count": null,
   "metadata": {},
   "outputs": [],
   "source": [
    "def main():\n",
    "    # Get the year to check from the user\n",
    "    year = int(input('Please input a year: '))\n",
    "\n",
    "    # Check if the year is a leap year\n",
    "    if year % 4 == 0:  # Year must be divisible by 4\n",
    "        if year % 100 == 0:  # Year must be divisible by 100\n",
    "            if year % 400 == 0:  # Year must also be divisible by 400\n",
    "                print(\"That's a leap year!\")\n",
    "            else:  # Not divisible by 400, so it's not a leap year\n",
    "                print(\"That's not a leap year.\")\n",
    "        else:  # Divisible by 4 but not by 100\n",
    "            print(\"That's a leap year!\")\n",
    "    else:  # Not divisible by 4, so it's not a leap year\n",
    "        print(\"That's not a leap year.\")\n",
    "\n",
    "\n",
    "if __name__ == '__main__':\n",
    "    main()"
   ]
  },
  {
   "cell_type": "markdown",
   "metadata": {},
   "source": [
    "04_tall_enough_to_ride"
   ]
  },
  {
   "cell_type": "code",
   "execution_count": null,
   "metadata": {},
   "outputs": [],
   "source": [
    "MINIMUM_HEIGHT = 50  # arbitrary units :)\n",
    "\n",
    "def main():\n",
    "    while True:\n",
    "        # Prompt the user for their height\n",
    "        height_input = input(\"How tall are you? \")\n",
    "\n",
    "        # If the user does not input anything, exit the loop\n",
    "        if height_input == \"\":\n",
    "            break\n",
    "\n",
    "        try:\n",
    "            # Convert the input to a float\n",
    "            height = float(height_input)\n",
    "\n",
    "            # Check if the user is tall enough to ride\n",
    "            if height >= MINIMUM_HEIGHT:\n",
    "                print(\"You're tall enough to ride!\")\n",
    "            else:\n",
    "                print(\"You're not tall enough to ride, but maybe next year!\")\n",
    "        except ValueError:\n",
    "            # If the user input isn't a valid number, we can ignore it or prompt again\n",
    "            print(\"Please enter a valid number for your height.\")\n",
    "\n",
    "\n",
    "if __name__ == '__main__':\n",
    "    main()"
   ]
  },
  {
   "cell_type": "markdown",
   "metadata": {},
   "source": [
    "05_random_numbers"
   ]
  },
  {
   "cell_type": "code",
   "execution_count": null,
   "metadata": {},
   "outputs": [],
   "source": [
    "import random\n",
    "\n",
    "N_NUMBERS = 10\n",
    "MIN_VALUE = 1\n",
    "MAX_VALUE = 100\n",
    "\n",
    "def main():\n",
    "    # Loop to print 10 random numbers in the range 1 to 100\n",
    "    for _ in range(N_NUMBERS):\n",
    "        print(random.randint(MIN_VALUE, MAX_VALUE))\n",
    "\n",
    "\n",
    "if __name__ == '__main__':\n",
    "    main()"
   ]
  }
 ],
 "metadata": {
  "kernelspec": {
   "display_name": "python12",
   "language": "python",
   "name": "python3"
  },
  "language_info": {
   "name": "python",
   "version": "3.12.3"
  }
 },
 "nbformat": 4,
 "nbformat_minor": 2
}
