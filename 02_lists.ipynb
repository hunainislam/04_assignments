{
 "cells": [
  {
   "cell_type": "markdown",
   "metadata": {},
   "source": [
    "01_add_many_number"
   ]
  },
  {
   "cell_type": "code",
   "execution_count": null,
   "metadata": {},
   "outputs": [],
   "source": [
    "def add_many_numbers(numbers: list[int]) -> int:\n",
    "    \"\"\"\n",
    "    Takes in a list of numbers and returns the sum of those numbers.\n",
    "    \"\"\"\n",
    "    return sum(numbers)  # Uses Python's built-in sum() function\n",
    "\n",
    "# No need to edit code beyond this point\n",
    "def main():\n",
    "    numbers: list[int] = [1, 2, 3, 4, 5]  # List of numbers\n",
    "    sum_of_numbers: int = add_many_numbers(numbers)  # Get sum\n",
    "    print(sum_of_numbers)  # Print sum\n",
    "\n",
    "if __name__ == '__main__':\n",
    "    main()"
   ]
  },
  {
   "cell_type": "markdown",
   "metadata": {},
   "source": [
    "02_double_list"
   ]
  },
  {
   "cell_type": "code",
   "execution_count": null,
   "metadata": {},
   "outputs": [],
   "source": [
    "from typing import List\n",
    "\n",
    "def double_elements(numbers: List[int]) -> List[int]:\n",
    "    \"\"\"\n",
    "    Takes a list of numbers and returns a new list where each element is doubled.\n",
    "    Uses list comprehension for better performance.\n",
    "    \"\"\"\n",
    "    return [num * 2 for num in numbers]  # Efficient list comprehension\n",
    "\n",
    "def main():\n",
    "    numbers: List[int] = [1, 2, 3, 4]  # Initial list\n",
    "    doubled_numbers = double_elements(numbers)  # Get doubled list\n",
    "    print(f\"Original List: {numbers}\")\n",
    "    print(f\"Doubled List: {doubled_numbers}\")  # Print the transformed list\n",
    "\n",
    "if __name__ == '__main__':\n",
    "    main()"
   ]
  },
  {
   "cell_type": "markdown",
   "metadata": {},
   "source": [
    "03_erase_canvas"
   ]
  },
  {
   "cell_type": "code",
   "execution_count": null,
   "metadata": {},
   "outputs": [],
   "source": [
    "from graphics import Canvas\n",
    "import time\n",
    "\n",
    "# Canvas and Grid Settings\n",
    "CANVAS_WIDTH = 400\n",
    "CANVAS_HEIGHT = 400\n",
    "CELL_SIZE = 40\n",
    "\n",
    "# Eraser Settings\n",
    "ERASER_SIZE = 20\n",
    "ERASE_FADE_SPEED = 2  # Controls fading speed (higher is faster)\n",
    "\n",
    "# Store erased cells for undo functionality\n",
    "erased_cells = []\n",
    "\n",
    "def erase_objects(canvas, eraser):\n",
    "    \"\"\"Gradually fades out objects in contact with the eraser.\"\"\"\n",
    "    mouse_x = canvas.get_mouse_x()\n",
    "    mouse_y = canvas.get_mouse_y()\n",
    "    \n",
    "    left_x = mouse_x\n",
    "    top_y = mouse_y\n",
    "    right_x = left_x + ERASER_SIZE\n",
    "    bottom_y = top_y + ERASER_SIZE\n",
    "    \n",
    "    overlapping_objects = canvas.find_overlapping(left_x, top_y, right_x, bottom_y)\n",
    "    \n",
    "    for obj in overlapping_objects:\n",
    "        if obj != eraser:\n",
    "            color = canvas.get_color(obj)\n",
    "            if color != \"white\":  # Only fade if not already erased\n",
    "                erased_cells.append((obj, color))  # Save for undo\n",
    "                canvas.set_color(obj, \"lightgray\")  # First step of fading\n",
    "                time.sleep(0.02)  # Delay for smoother effect\n",
    "                canvas.set_color(obj, \"white\")  # Fully erase\n",
    "\n",
    "def adjust_eraser_size(event):\n",
    "    \"\"\"Adjusts eraser size using '+' and '-' keys.\"\"\"\n",
    "    global ERASER_SIZE\n",
    "    if event.keysym == \"plus\" and ERASER_SIZE < 60:\n",
    "        ERASER_SIZE += 5\n",
    "    elif event.keysym == \"minus\" and ERASER_SIZE > 10:\n",
    "        ERASER_SIZE -= 5\n",
    "\n",
    "def undo_last_erase(canvas):\n",
    "    \"\"\"Restores the last erased cell.\"\"\"\n",
    "    if erased_cells:\n",
    "        obj, original_color = erased_cells.pop()\n",
    "        canvas.set_color(obj, original_color)\n",
    "\n",
    "def main():\n",
    "    canvas = Canvas(CANVAS_WIDTH, CANVAS_HEIGHT)\n",
    "    \n",
    "    num_rows = CANVAS_HEIGHT // CELL_SIZE\n",
    "    num_cols = CANVAS_WIDTH // CELL_SIZE\n",
    "    \n",
    "    # Create the grid of blue cells\n",
    "    for row in range(num_rows):\n",
    "        for col in range(num_cols):\n",
    "            left_x = col * CELL_SIZE\n",
    "            top_y = row * CELL_SIZE\n",
    "            right_x = left_x + CELL_SIZE\n",
    "            bottom_y = top_y + CELL_SIZE\n",
    "            cell = canvas.create_rectangle(left_x, top_y, right_x, bottom_y, \"blue\")\n",
    "    \n",
    "    canvas.wait_for_click()  \n",
    "    last_click_x, last_click_y = canvas.get_last_click()\n",
    "    \n",
    "    eraser = canvas.create_rectangle(\n",
    "        last_click_x, last_click_y, last_click_x + ERASER_SIZE, last_click_y + ERASER_SIZE, \"pink\"\n",
    "    )\n",
    "\n",
    "    # Bind keys for eraser size adjustment and undo\n",
    "    canvas.bind_key(\"<plus>\", adjust_eraser_size)\n",
    "    canvas.bind_key(\"<minus>\", adjust_eraser_size)\n",
    "    canvas.bind_key(\"u\", lambda _: undo_last_erase(canvas))\n",
    "    \n",
    "    # Eraser movement loop\n",
    "    while True:\n",
    "        mouse_x = canvas.get_mouse_x()\n",
    "        mouse_y = canvas.get_mouse_y()\n",
    "        canvas.moveto(eraser, mouse_x, mouse_y)\n",
    "        erase_objects(canvas, eraser)\n",
    "        time.sleep(0.05)\n",
    "\n",
    "if __name__ == '__main__':\n",
    "    main()"
   ]
  },
  {
   "cell_type": "markdown",
   "metadata": {},
   "source": [
    "04_flowing_with_data_structures"
   ]
  },
  {
   "cell_type": "code",
   "execution_count": null,
   "metadata": {},
   "outputs": [],
   "source": [
    "def add_three_copies(data_list, data):\n",
    "    \"\"\"Add three copies of the data to the list\"\"\"\n",
    "    data_list.append(data)\n",
    "    data_list.append(data)\n",
    "    data_list.append(data)\n",
    "\n",
    "def main():\n",
    "    message = input(\"Enter a message to copy: \")  # Take user input\n",
    "    data_list = []  # Initialize an empty list\n",
    "    \n",
    "    print(\"List before:\", data_list)\n",
    "    \n",
    "    # Call the function to add three copies of the message\n",
    "    add_three_copies(data_list, message)\n",
    "    \n",
    "    print(\"List after:\", data_list)  # Display the modified list\n",
    "\n",
    "if __name__ == '__main__':\n",
    "    main()"
   ]
  },
  {
   "cell_type": "markdown",
   "metadata": {},
   "source": [
    "05_get_first_element"
   ]
  },
  {
   "cell_type": "code",
   "execution_count": null,
   "metadata": {},
   "outputs": [],
   "source": [
    "def get_first_element(lst):\n",
    "    \"\"\"\n",
    "    Prints the first element of a provided list.\n",
    "    \"\"\"\n",
    "    print(lst[0])\n",
    "\n",
    "# There is no need to edit code beyond this point\n",
    "\n",
    "def get_lst():\n",
    "    \"\"\"\n",
    "    Prompts the user to enter one element of the list at a time and returns the resulting list.\n",
    "    \"\"\"\n",
    "    lst = []\n",
    "    elem = input(\"Please enter an element of the list or press enter to stop. \")\n",
    "    while elem != \"\":\n",
    "        lst.append(elem)\n",
    "        elem = input(\"Please enter an element of the list or press enter to stop. \")\n",
    "    return lst\n",
    "\n",
    "def main():\n",
    "    lst = get_lst()  # Get the list from the user\n",
    "    get_first_element(lst)  # Print the first element\n",
    "\n",
    "if __name__ == '__main__':\n",
    "    main()"
   ]
  },
  {
   "cell_type": "markdown",
   "metadata": {},
   "source": [
    "06_get_last_element"
   ]
  },
  {
   "cell_type": "code",
   "execution_count": null,
   "metadata": {},
   "outputs": [],
   "source": [
    "def get_last_element(lst):\n",
    "    \"\"\"\n",
    "    Prints the last element of the provided list.\n",
    "    \"\"\"\n",
    "    # Using negative indexing to get the last element\n",
    "    print(lst[-1])\n",
    "\n",
    "# There is no need to edit code beyond this point\n",
    "\n",
    "def get_lst():\n",
    "    \"\"\"\n",
    "    Prompts the user to enter one element of the list at a time and returns the resulting list.\n",
    "    \"\"\"\n",
    "    lst = []\n",
    "    elem = input(\"Please enter an element of the list or press enter to stop. \")\n",
    "    while elem != \"\":\n",
    "        lst.append(elem)\n",
    "        elem = input(\"Please enter an element of the list or press enter to stop. \")\n",
    "    return lst\n",
    "\n",
    "def main():\n",
    "    lst = get_lst()  # Get the list from the user\n",
    "    get_last_element(lst)  # Print the last element\n",
    "\n",
    "if __name__ == '__main__':\n",
    "    main()"
   ]
  },
  {
   "cell_type": "markdown",
   "metadata": {},
   "source": [
    "07_get_list"
   ]
  },
  {
   "cell_type": "code",
   "execution_count": null,
   "metadata": {},
   "outputs": [],
   "source": [
    "def main():\n",
    "    lst = []  # Make an empty list to store things in\n",
    "\n",
    "    # Continuously ask for input\n",
    "    val = input(\"Enter a value: \")  # Get an initial value\n",
    "    while val:  # While the user input isn't an empty value\n",
    "        lst.append(val)  # Add the value to the list\n",
    "        val = input(\"Enter a value: \")  # Get the next value to add\n",
    "\n",
    "    # Once the user presses enter without input, print the list\n",
    "    print(\"Here's the list:\", lst)\n",
    "\n",
    "\n",
    "if __name__ == '__main__':\n",
    "    main()"
   ]
  },
  {
   "cell_type": "markdown",
   "metadata": {},
   "source": [
    "08_shorten"
   ]
  },
  {
   "cell_type": "code",
   "execution_count": 1,
   "metadata": {},
   "outputs": [],
   "source": [
    "MAX_LENGTH = 3  # Set the maximum length of the list\n",
    "\n",
    "def shorten(lst):\n",
    "    # While the length of the list exceeds the MAX_LENGTH\n",
    "    while len(lst) > MAX_LENGTH:\n",
    "        # Remove and print the last element of the list\n",
    "        last_elem = lst.pop()\n",
    "        print(last_elem)\n",
    "\n",
    "def get_lst():\n",
    "    \"\"\"\n",
    "    Prompts the user to enter one element of the list at a time and returns the resulting list.\n",
    "    \"\"\"\n",
    "    lst = []\n",
    "    elem = input(\"Please enter an element of the list or press enter to stop. \")\n",
    "    while elem != \"\":\n",
    "        lst.append(elem)\n",
    "        elem = input(\"Please enter an element of the list or press enter to stop. \")\n",
    "    return lst\n",
    "\n",
    "def main():\n",
    "    lst = get_lst()  # Get the list from user input\n",
    "    shorten(lst)  # Shorten the list if necessary\n",
    "\n",
    "# This line is required to call the main function\n",
    "if __name__ == '__main__':\n",
    "    main()"
   ]
  }
 ],
 "metadata": {
  "kernelspec": {
   "display_name": "python12",
   "language": "python",
   "name": "python3"
  },
  "language_info": {
   "codemirror_mode": {
    "name": "ipython",
    "version": 3
   },
   "file_extension": ".py",
   "mimetype": "text/x-python",
   "name": "python",
   "nbconvert_exporter": "python",
   "pygments_lexer": "ipython3",
   "version": "3.12.3"
  }
 },
 "nbformat": 4,
 "nbformat_minor": 2
}
