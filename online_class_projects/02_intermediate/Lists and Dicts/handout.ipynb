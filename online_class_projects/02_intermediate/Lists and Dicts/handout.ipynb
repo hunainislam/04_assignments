{
 "cells": [
  {
   "cell_type": "markdown",
   "metadata": {},
   "source": [
    "Problem #1: List Practice"
   ]
  },
  {
   "cell_type": "code",
   "execution_count": 1,
   "metadata": {},
   "outputs": [
    {
     "name": "stdout",
     "output_type": "stream",
     "text": [
      "The length of the list is: 5\n",
      "Updated fruit list: ['apple', 'banana', 'orange', 'grape', 'pineapple', 'mango']\n"
     ]
    }
   ],
   "source": [
    "def main():\n",
    "    # Create a list called `fruit_list` that contains the following fruits: \n",
    "    # 'apple', 'banana', 'orange', 'grape', 'pineapple'.\n",
    "    fruit_list = ['apple', 'banana', 'orange', 'grape', 'pineapple']\n",
    "\n",
    "    # Print the length of the list.\n",
    "    print(f\"The length of the list is: {len(fruit_list)}\")\n",
    "\n",
    "    # Add 'mango' at the end of the list.\n",
    "    fruit_list.append('mango')\n",
    "\n",
    "    # Print the updated list.\n",
    "    print(\"Updated fruit list:\", fruit_list)\n",
    "\n",
    "if __name__ == '__main__':\n",
    "    main()\n"
   ]
  },
  {
   "cell_type": "markdown",
   "metadata": {},
   "source": [
    "Problem #2: Index Game"
   ]
  },
  {
   "cell_type": "code",
   "execution_count": 3,
   "metadata": {},
   "outputs": [
    {
     "name": "stdout",
     "output_type": "stream",
     "text": [
      "\n",
      "Select an operation:\n",
      "1. Access an element\n",
      "2. Modify an element\n",
      "3. Slice the list\n",
      "4. Exit\n"
     ]
    },
    {
     "name": "stdout",
     "output_type": "stream",
     "text": [
      "Updated list: [1, '1', 3.14, 'banana', True]\n",
      "\n",
      "Select an operation:\n",
      "1. Access an element\n",
      "2. Modify an element\n",
      "3. Slice the list\n",
      "4. Exit\n",
      "Exiting the game.\n"
     ]
    }
   ],
   "source": [
    "def access_element(lst, index):\n",
    "    # Check if index is within range and return the element or an error message\n",
    "    if index < 0 or index >= len(lst):\n",
    "        return \"Index out of range.\"\n",
    "    return lst[index]\n",
    "\n",
    "def modify_element(lst, index, new_value):\n",
    "    # Check if index is within range and modify the element or return an error message\n",
    "    if index < 0 or index >= len(lst):\n",
    "        return \"Index out of range.\"\n",
    "    lst[index] = new_value\n",
    "    return lst\n",
    "\n",
    "def slice_list(lst, start_index, end_index):\n",
    "    # Check if indices are within range and return the sliced list or an error message\n",
    "    if start_index < 0 or end_index > len(lst) or start_index > end_index:\n",
    "        return \"Invalid indices.\"\n",
    "    return lst[start_index:end_index]\n",
    "\n",
    "def game():\n",
    "    # Initialize a list with 5 different elements\n",
    "    elements = [1, 'apple', 3.14, 'banana', True]\n",
    "\n",
    "    while True:\n",
    "        # Display the menu\n",
    "        print(\"\\nSelect an operation:\")\n",
    "        print(\"1. Access an element\")\n",
    "        print(\"2. Modify an element\")\n",
    "        print(\"3. Slice the list\")\n",
    "        print(\"4. Exit\")\n",
    "\n",
    "        choice = input(\"Enter the number of your choice: \")\n",
    "\n",
    "        if choice == '1':  # Access an element\n",
    "            index = int(input(\"Enter the index to access: \"))\n",
    "            result = access_element(elements, index)\n",
    "            print(f\"Result: {result}\")\n",
    "\n",
    "        elif choice == '2':  # Modify an element\n",
    "            index = int(input(\"Enter the index to modify: \"))\n",
    "            new_value = input(\"Enter the new value: \")\n",
    "            result = modify_element(elements, index, new_value)\n",
    "            print(f\"Updated list: {result}\")\n",
    "\n",
    "        elif choice == '3':  # Slice the list\n",
    "            start_index = int(input(\"Enter the start index: \"))\n",
    "            end_index = int(input(\"Enter the end index: \"))\n",
    "            result = slice_list(elements, start_index, end_index)\n",
    "            print(f\"Sliced list: {result}\")\n",
    "\n",
    "        elif choice == '4':  # Exit\n",
    "            print(\"Exiting the game.\")\n",
    "            break\n",
    "\n",
    "        else:\n",
    "            print(\"Invalid choice, please try again.\")\n",
    "\n",
    "if __name__ == \"__main__\":\n",
    "    game()\n"
   ]
  }
 ],
 "metadata": {
  "kernelspec": {
   "display_name": "python12",
   "language": "python",
   "name": "python3"
  },
  "language_info": {
   "codemirror_mode": {
    "name": "ipython",
    "version": 3
   },
   "file_extension": ".py",
   "mimetype": "text/x-python",
   "name": "python",
   "nbconvert_exporter": "python",
   "pygments_lexer": "ipython3",
   "version": "3.12.3"
  }
 },
 "nbformat": 4,
 "nbformat_minor": 2
}
