{
 "cells": [
  {
   "cell_type": "markdown",
   "metadata": {},
   "source": [
    "Milestone #1: Mars Weight"
   ]
  },
  {
   "cell_type": "code",
   "execution_count": 2,
   "metadata": {},
   "outputs": [
    {
     "name": "stdout",
     "output_type": "stream",
     "text": [
      "The equivalent on Mars: 7.56\n"
     ]
    }
   ],
   "source": [
    "# Milestone #1: Mars Weight Calculator\n",
    "\n",
    "def main():\n",
    "    # Prompt user to enter their weight on Earth\n",
    "    weight_on_earth = float(input(\"Enter a weight on Earth: \"))\n",
    "\n",
    "    # Calculate weight on Mars (37.8% of the Earth weight)\n",
    "    weight_on_mars = weight_on_earth * 0.378\n",
    "\n",
    "    # Print the equivalent weight on Mars, rounded to 2 decimal places\n",
    "    print(f\"The equivalent on Mars: {round(weight_on_mars, 2)}\")\n",
    "\n",
    "if __name__ == \"__main__\":\n",
    "    main()\n"
   ]
  },
  {
   "cell_type": "markdown",
   "metadata": {},
   "source": [
    "Milestone #2: Adding in All Planets"
   ]
  },
  {
   "cell_type": "code",
   "execution_count": 3,
   "metadata": {},
   "outputs": [
    {
     "name": "stdout",
     "output_type": "stream",
     "text": [
      "Invalid planet name. Please choose a planet from the list.\n"
     ]
    }
   ],
   "source": [
    "# Milestone #2: Weight Calculator for All Planets\n",
    "\n",
    "def main():\n",
    "    # Dictionary containing the gravitational percentage for each planet\n",
    "    planet_gravity = {\n",
    "        \"Mercury\": 0.376,\n",
    "        \"Venus\": 0.889,\n",
    "        \"Mars\": 0.378,\n",
    "        \"Jupiter\": 2.36,\n",
    "        \"Saturn\": 1.081,\n",
    "        \"Uranus\": 0.815,\n",
    "        \"Neptune\": 1.14\n",
    "    }\n",
    "\n",
    "    # Prompt user to enter their weight on Earth\n",
    "    weight_on_earth = float(input(\"Enter a weight on Earth: \"))\n",
    "\n",
    "    # Prompt user to enter a planet name\n",
    "    planet = input(\"Enter a planet: \")\n",
    "\n",
    "    # Check if the planet entered is valid\n",
    "    if planet in planet_gravity:\n",
    "        # Calculate weight on the selected planet\n",
    "        weight_on_planet = weight_on_earth * planet_gravity[planet]\n",
    "        # Print the equivalent weight on the planet, rounded to 2 decimal places\n",
    "        print(f\"The equivalent weight on {planet}: {round(weight_on_planet, 2)}\")\n",
    "    else:\n",
    "        print(\"Invalid planet name. Please choose a planet from the list.\")\n",
    "\n",
    "if __name__ == \"__main__\":\n",
    "    main()\n"
   ]
  }
 ],
 "metadata": {
  "kernelspec": {
   "display_name": "python12",
   "language": "python",
   "name": "python3"
  },
  "language_info": {
   "codemirror_mode": {
    "name": "ipython",
    "version": 3
   },
   "file_extension": ".py",
   "mimetype": "text/x-python",
   "name": "python",
   "nbconvert_exporter": "python",
   "pygments_lexer": "ipython3",
   "version": "3.12.3"
  }
 },
 "nbformat": 4,
 "nbformat_minor": 2
}
