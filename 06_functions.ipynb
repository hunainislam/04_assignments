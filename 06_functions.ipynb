{
 "cells": [
  {
   "cell_type": "markdown",
   "metadata": {},
   "source": [
    "00_averages"
   ]
  },
  {
   "cell_type": "code",
   "execution_count": null,
   "metadata": {},
   "outputs": [],
   "source": [
    "def average(a: float, b: float) -> float:\n",
    "    \"\"\"\n",
    "    Returns the average of two numbers, a and b.\n",
    "    \"\"\"\n",
    "    sum = a + b\n",
    "    return sum / 2\n",
    "\n",
    "def main():\n",
    "    # Calculate averages for two pairs of numbers\n",
    "    avg_1 = average(0, 10)  # Average of 0 and 10\n",
    "    avg_2 = average(8, 10)  # Average of 8 and 10\n",
    "    \n",
    "    # Calculate the average of the two previously calculated averages\n",
    "    final = average(avg_1, avg_2)\n",
    "    \n",
    "    # Print the results\n",
    "    print(\"avg_1:\", avg_1)\n",
    "    print(\"avg_2:\", avg_2)\n",
    "    print(\"final:\", final)\n",
    "\n",
    "\n",
    "if __name__ == '__main__':\n",
    "    main()"
   ]
  },
  {
   "cell_type": "markdown",
   "metadata": {},
   "source": [
    "01_chaotic_counting"
   ]
  },
  {
   "cell_type": "code",
   "execution_count": null,
   "metadata": {},
   "outputs": [],
   "source": [
    "import random\n",
    "\n",
    "# Probability threshold for done() to return True\n",
    "DONE_LIKELIHOOD = 0.3  # You can adjust this value to increase or decrease the likelihood\n",
    "\n",
    "def chaotic_counting():\n",
    "    # Loop through numbers 1 to 10\n",
    "    for i in range(10):\n",
    "        curr_num = i + 1\n",
    "        # Check if done() returns True, and if so, stop counting\n",
    "        if done():\n",
    "            return  # If done() returns True, exit the function early\n",
    "        print(curr_num)\n",
    "\n",
    "def done():\n",
    "    \"\"\"Returns True with a probability of DONE_LIKELIHOOD\"\"\"\n",
    "    if random.random() < DONE_LIKELIHOOD:\n",
    "        return True\n",
    "    return False\n",
    "\n",
    "def main():\n",
    "    print(\"I'm going to count until 10 or until I feel like stopping, whichever comes first.\")\n",
    "    chaotic_counting()  # Start the chaotic counting\n",
    "    print(\"I'm done\")\n",
    "\n",
    "\n",
    "if __name__ == \"__main__\":\n",
    "    main()"
   ]
  },
  {
   "cell_type": "markdown",
   "metadata": {},
   "source": [
    "02_count_even"
   ]
  },
  {
   "cell_type": "code",
   "execution_count": null,
   "metadata": {},
   "outputs": [],
   "source": [
    "def count_even(lst):\n",
    "    \"\"\"\n",
    "    Returns the number of even numbers in the list.\n",
    "    \"\"\"\n",
    "    count = 0  # Initialize a counter for even numbers\n",
    "    for num in lst:  # Iterate over each number in the list\n",
    "        if num % 2 == 0:  # If the number is even\n",
    "            count += 1  # Increment the counter\n",
    "    print(count)  # Print the count of even numbers\n",
    "\n",
    "def get_list_of_ints():\n",
    "    \"\"\"\n",
    "    Reads integers from the user until the user presses enter without entering any value.\n",
    "    Returns a list of integers.\n",
    "    \"\"\"\n",
    "    lst = []  # Initialize an empty list to store the integers\n",
    "    while True:\n",
    "        user_input = input(\"Enter an integer or press enter to stop: \")  # Get user input\n",
    "        if user_input == \"\":  # If the user presses enter without typing a number, stop the loop\n",
    "            break\n",
    "        lst.append(int(user_input))  # Convert the input to an integer and add it to the list\n",
    "    return lst  # Return the list of integers\n",
    "\n",
    "def main():\n",
    "    lst = get_list_of_ints()  # Get the list of integers from the user\n",
    "    count_even(lst)  # Count and print the number of even numbers in the list\n",
    "\n",
    "if __name__ == '__main__':\n",
    "    main()"
   ]
  },
  {
   "cell_type": "markdown",
   "metadata": {},
   "source": [
    "03_double"
   ]
  },
  {
   "cell_type": "code",
   "execution_count": null,
   "metadata": {},
   "outputs": [],
   "source": [
    "def double(num: int):\n",
    "    \"\"\" Returns the number multiplied by 2 \"\"\"\n",
    "    return num * 2\n",
    "\n",
    "# This provided line is required at the end of the file\n",
    "# to call the main() function.\n",
    "def main():\n",
    "    # Ask the user for input\n",
    "    num = int(input(\"Enter a number: \"))\n",
    "    # Call the double function and store the result\n",
    "    num_times_2 = double(num)\n",
    "    # Print the result\n",
    "    print(\"Double that is\", num_times_2)\n",
    "\n",
    "if __name__ == '__main__':\n",
    "    main()"
   ]
  },
  {
   "cell_type": "markdown",
   "metadata": {},
   "source": [
    "04_get_name"
   ]
  },
  {
   "cell_type": "code",
   "execution_count": null,
   "metadata": {},
   "outputs": [],
   "source": [
    "def get_name():\n",
    "    # Return your name as a string\n",
    "    return \"Sophia\"\n",
    "\n",
    "# This provided line is required at the end of the file to call the main() function.\n",
    "def main():\n",
    "    # Retrieve the name using the get_name function\n",
    "    name = get_name()\n",
    "    # Print a greeting with the retrieved name\n",
    "    print(\"Howdy\", name, \"! 🤠\")\n",
    "\n",
    "if __name__ == '__main__':\n",
    "    main()"
   ]
  },
  {
   "cell_type": "markdown",
   "metadata": {},
   "source": [
    "05_is_odd"
   ]
  },
  {
   "cell_type": "code",
   "execution_count": null,
   "metadata": {},
   "outputs": [],
   "source": [
    "def main():\n",
    "    for i in range(10, 20):  # Loop through numbers 10 to 19\n",
    "        if is_odd(i):  # If the number is odd\n",
    "            print(f\"{i} odd\")  # Print that it's odd\n",
    "        else:  # If the number is even\n",
    "            print(f\"{i} even\")  # Print that it's even\n",
    "\n",
    "def is_odd(value: int):\n",
    "    \"\"\"\n",
    "    Checks if a number is odd. Returns True if the number is odd, False if it's even.\n",
    "    \"\"\"\n",
    "    return value % 2 != 0  # True if odd, False if even\n",
    "\n",
    "if __name__ == '__main__':\n",
    "    main()"
   ]
  },
  {
   "cell_type": "markdown",
   "metadata": {},
   "source": [
    "06_print_divisor"
   ]
  },
  {
   "cell_type": "code",
   "execution_count": null,
   "metadata": {},
   "outputs": [],
   "source": [
    "def print_divisors(num: int):\n",
    "    print(\"Here are the divisors of\", num)\n",
    "    for i in range(1, num + 1):  # Start from 1 to num inclusive\n",
    "        if num % i == 0:  # If i is a divisor of num (no remainder)\n",
    "            print(i)\n",
    "\n",
    "def main():\n",
    "    num = int(input(\"Enter a number: \"))\n",
    "    print_divisors(num)\n",
    "\n",
    "if __name__ == '__main__':\n",
    "    main()\n"
   ]
  },
  {
   "cell_type": "markdown",
   "metadata": {},
   "source": [
    "07_print_multiple"
   ]
  },
  {
   "cell_type": "code",
   "execution_count": null,
   "metadata": {},
   "outputs": [],
   "source": [
    "def print_multiple(message: str, repeats: int):\n",
    "    for i in range(repeats):  # Loop 'repeats' number of times\n",
    "        print(message)  # Print the message on each iteration\n",
    "\n",
    "def main():\n",
    "    message = input(\"Please type a message: \")  # Get the message from the user\n",
    "    repeats = int(input(\"Enter a number of times to repeat your message: \"))  # Get the number of repeats\n",
    "    print_multiple(message, repeats)  # Call the print_multiple function to print the message\n",
    "\n",
    "if __name__ == '__main__':\n",
    "    main()"
   ]
  },
  {
   "cell_type": "markdown",
   "metadata": {},
   "source": [
    "08_sentence_generator"
   ]
  },
  {
   "cell_type": "code",
   "execution_count": null,
   "metadata": {},
   "outputs": [],
   "source": [
    "def make_sentence(word, part_of_speech):\n",
    "    # Checking the part of speech and generating the correct sentence\n",
    "    if part_of_speech == 0:\n",
    "        # Noun\n",
    "        print(\"I am excited to add this \" + word + \" to my vast collection of them!\")\n",
    "    elif part_of_speech == 1:\n",
    "        # Verb\n",
    "        print(\"It's so nice outside today it makes me want to \" + word + \"!\")\n",
    "    elif part_of_speech == 2:\n",
    "        # Adjective\n",
    "        print(\"Looking out my window, the sky is big and \" + word + \"!\")\n",
    "    else:\n",
    "        # Invalid part of speech\n",
    "        print(\"Part of speech must be 0, 1, or 2! Can't make a sentence.\")\n",
    "\n",
    "def main():\n",
    "    # Taking user input\n",
    "    word = input(\"Please type a noun, verb, or adjective: \")\n",
    "    print(\"Is this a noun, verb, or adjective?\")\n",
    "    part_of_speech = int(input(\"Type 0 for noun, 1 for verb, 2 for adjective: \"))\n",
    "    \n",
    "    # Call the make_sentence function with user inputs\n",
    "    make_sentence(word, part_of_speech)\n",
    "\n",
    "\n",
    "if __name__ == '__main__':\n",
    "    main()"
   ]
  },
  {
   "cell_type": "markdown",
   "metadata": {},
   "source": [
    "09_print_ones_digit"
   ]
  },
  {
   "cell_type": "code",
   "execution_count": null,
   "metadata": {},
   "outputs": [],
   "source": [
    "def print_ones_digit(num):\n",
    "    # Print the ones digit using modulo operation\n",
    "    print(\"The ones digit is\", num % 10)\n",
    "\n",
    "def main():\n",
    "    # Take user input\n",
    "    num = int(input(\"Enter a number: \"))\n",
    "    # Call the print_ones_digit function with the user input\n",
    "    print_ones_digit(num)\n",
    "\n",
    "\n",
    "if __name__ == '__main__':\n",
    "    main()"
   ]
  }
 ],
 "metadata": {
  "kernelspec": {
   "display_name": "python12",
   "language": "python",
   "name": "python3"
  },
  "language_info": {
   "name": "python",
   "version": "3.12.3"
  }
 },
 "nbformat": 4,
 "nbformat_minor": 2
}
