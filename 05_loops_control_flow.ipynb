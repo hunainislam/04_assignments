{
 "cells": [
  {
   "cell_type": "markdown",
   "metadata": {},
   "source": [
    "00_guess_my_number"
   ]
  },
  {
   "cell_type": "code",
   "execution_count": null,
   "metadata": {},
   "outputs": [],
   "source": [
    "import random\n",
    "\n",
    "def main():\n",
    "    # Generate the secret number at random!\n",
    "    secret_number = random.randint(1, 99)\n",
    "    \n",
    "    print(\"I am thinking of a number between 1 and 99...\")\n",
    "    \n",
    "    # Get user's guess\n",
    "    guess = int(input(\"Enter a guess: \"))\n",
    "    \n",
    "    # Loop until the guess is correct\n",
    "    while guess != secret_number:\n",
    "        if guess < secret_number:\n",
    "            print(\"Your guess is too low\")\n",
    "        else:\n",
    "            print(\"Your guess is too high\")\n",
    "        \n",
    "        print()  # Print an empty line to tidy up the console for new guesses\n",
    "        \n",
    "        # Ask for a new guess\n",
    "        guess = int(input(\"Enter a new guess: \"))  # Get a new guess from the user\n",
    "    \n",
    "    print(\"Congrats! The number was: \" + str(secret_number))  # Show the correct number\n",
    "\n",
    "if __name__ == '__main__':\n",
    "    main()"
   ]
  },
  {
   "cell_type": "markdown",
   "metadata": {},
   "source": [
    "01_fibonacci"
   ]
  },
  {
   "cell_type": "code",
   "execution_count": null,
   "metadata": {},
   "outputs": [],
   "source": [
    "MAX_TERM_VALUE = 10000  # Set the maximum value for Fibonacci terms\n",
    "\n",
    "def main():\n",
    "    curr_term = 0  # The 0th Fibonacci Number\n",
    "    next_term = 1  # The 1st Fibonacci Number\n",
    "    \n",
    "    # Continue while the current term is less than or equal to MAX_TERM_VALUE\n",
    "    while curr_term <= MAX_TERM_VALUE:\n",
    "        print(curr_term)  # Print the current term\n",
    "        term_after_next = curr_term + next_term  # Calculate the next Fibonacci term\n",
    "        curr_term = next_term  # Update curr_term to the next term\n",
    "        next_term = term_after_next  # Update next_term to the term after the next\n",
    "\n",
    "\n",
    "if __name__ == '__main__':\n",
    "    main()"
   ]
  },
  {
   "cell_type": "markdown",
   "metadata": {},
   "source": [
    "02_print_events"
   ]
  },
  {
   "cell_type": "code",
   "execution_count": null,
   "metadata": {},
   "outputs": [],
   "source": [
    "def main():\n",
    "    # This for-loop starts at 0 and runs 20 times, generating the first 20 even numbers.\n",
    "    for i in range(20):  # The range function generates numbers from 0 to 19\n",
    "        print(i * 2)  # Multiply each index by 2 to get the even number\n",
    "   \n",
    "\n",
    "if __name__ == '__main__':\n",
    "    main()"
   ]
  },
  {
   "cell_type": "markdown",
   "metadata": {},
   "source": [
    "03_wholesome_machine"
   ]
  },
  {
   "cell_type": "code",
   "execution_count": null,
   "metadata": {},
   "outputs": [],
   "source": [
    "AFFIRMATION = \"I am capable of doing anything I put my mind to.\"\n",
    "\n",
    "def main():\n",
    "    print(\"Please type the following affirmation: \" + AFFIRMATION)\n",
    "    \n",
    "    # Get user input\n",
    "    user_feedback = input()\n",
    "\n",
    "    # Keep prompting until the user types the correct affirmation\n",
    "    while user_feedback != AFFIRMATION:\n",
    "        print(\"That was not the affirmation.\")\n",
    "        print(\"Please type the following affirmation: \" + AFFIRMATION)\n",
    "        user_feedback = input()\n",
    "\n",
    "    print(\"That's right! :)\")\n",
    "\n",
    "\n",
    "if __name__ == '__main__':\n",
    "    main()"
   ]
  },
  {
   "cell_type": "markdown",
   "metadata": {},
   "source": [
    "04_liftoff"
   ]
  },
  {
   "cell_type": "code",
   "execution_count": null,
   "metadata": {},
   "outputs": [],
   "source": [
    "def main():\n",
    "    # Countdown from 10 to 1\n",
    "    for i in range(10, 0, -1):  # Start at 10, stop at 1 (inclusive), and decrement by 1 each time\n",
    "        print(i)\n",
    "\n",
    "    # Print Liftoff after the countdown\n",
    "    print(\"Liftoff!\")\n",
    "\n",
    "if __name__ == '__main__':\n",
    "    main()"
   ]
  },
  {
   "cell_type": "markdown",
   "metadata": {},
   "source": [
    "05_double_it"
   ]
  },
  {
   "cell_type": "code",
   "execution_count": null,
   "metadata": {},
   "outputs": [],
   "source": [
    "def main():\n",
    "    # Ask the user to enter a number\n",
    "    curr_value = int(input(\"Enter a number: \"))\n",
    "    \n",
    "    # Continue doubling the value until it is 100 or greater\n",
    "    while curr_value < 100:\n",
    "        curr_value = curr_value * 2  # Double the value\n",
    "        print(curr_value)  # Print the doubled value\n",
    "\n",
    "\n",
    "if __name__ == '__main__':\n",
    "    main()"
   ]
  }
 ],
 "metadata": {
  "kernelspec": {
   "display_name": "python12",
   "language": "python",
   "name": "python3"
  },
  "language_info": {
   "name": "python",
   "version": "3.12.3"
  }
 },
 "nbformat": 4,
 "nbformat_minor": 2
}
