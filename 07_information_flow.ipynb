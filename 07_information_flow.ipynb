{
 "cells": [
  {
   "cell_type": "markdown",
   "metadata": {},
   "source": [
    "00_choosing_returns"
   ]
  },
  {
   "cell_type": "code",
   "execution_count": null,
   "metadata": {},
   "outputs": [],
   "source": [
    "ADULT_AGE = 18  # U.S. legal adult age\n",
    "\n",
    "def is_adult(age: int):\n",
    "    if age >= ADULT_AGE:\n",
    "        return True\n",
    "    return False\n",
    "\n",
    "def main():\n",
    "    # Get user input (age)\n",
    "    age = int(input(\"How old is this person?: \"))\n",
    "    # Check if the person is an adult\n",
    "    print(is_adult(age))\n",
    "\n",
    "\n",
    "if __name__ == '__main__':\n",
    "    main()"
   ]
  },
  {
   "cell_type": "markdown",
   "metadata": {},
   "source": [
    "01_greetings"
   ]
  },
  {
   "cell_type": "code",
   "execution_count": null,
   "metadata": {},
   "outputs": [],
   "source": [
    "def greet(name):\n",
    "    # Returns a greeting string with the user's name\n",
    "    return \"Greetings \" + name + \"!\"\n",
    "\n",
    "def main():\n",
    "    # Get the user's name as input\n",
    "    name = input(\"What's your name? \")\n",
    "    # Call greet() to print the greeting\n",
    "    print(greet(name))\n",
    "\n",
    "\n",
    "if __name__ == '__main__':\n",
    "    main()"
   ]
  },
  {
   "cell_type": "markdown",
   "metadata": {},
   "source": [
    "02_in_range"
   ]
  },
  {
   "cell_type": "code",
   "execution_count": null,
   "metadata": {},
   "outputs": [],
   "source": [
    "def in_range(n, low, high):\n",
    "    \"\"\"\n",
    "    Returns True if n is between low and high, inclusive. \n",
    "    high is guaranteed to be greater than low.\n",
    "    \"\"\"\n",
    "    if n >= low and n <= high:\n",
    "        return True\n",
    "    return False\n",
    "\n",
    "# This function is to test if in_range works correctly\n",
    "def main():\n",
    "    # Test cases for demonstration\n",
    "    print(in_range(5, 1, 10))  # Expected True: 5 is between 1 and 10\n",
    "    print(in_range(0, 1, 10))  # Expected False: 0 is not between 1 and 10\n",
    "    print(in_range(10, 1, 10)) # Expected True: 10 is equal to high (inclusive)\n",
    "    print(in_range(15, 1, 10)) # Expected False: 15 is not between 1 and 10\n",
    "\n",
    "if __name__ == '__main__':\n",
    "    main()"
   ]
  },
  {
   "cell_type": "markdown",
   "metadata": {},
   "source": [
    "03_in_stock"
   ]
  },
  {
   "cell_type": "code",
   "execution_count": null,
   "metadata": {},
   "outputs": [],
   "source": [
    "def main():\n",
    "    # Prompt the user for a fruit\n",
    "    fruit = input(\"Enter a fruit: \")\n",
    "    \n",
    "    # Call the num_in_stock function to get the stock count\n",
    "    stock = num_in_stock(fruit)\n",
    "    \n",
    "    # Check if there is any stock of the fruit\n",
    "    if stock == 0:\n",
    "        print(\"This fruit is not in stock.\")\n",
    "    else:\n",
    "        print(\"This fruit is in stock! Here is how many:\")\n",
    "        print(stock)\n",
    "\n",
    "# The function to check how many fruits are in stock\n",
    "def num_in_stock(fruit):\n",
    "    \"\"\"\n",
    "    Returns the number of fruit in stock.\n",
    "    \"\"\"\n",
    "    if fruit == 'apple':\n",
    "        return 2\n",
    "    elif fruit == 'durian':\n",
    "        return 4\n",
    "    elif fruit == 'pear':\n",
    "        return 1000\n",
    "    else:\n",
    "        # If the fruit is not in stock\n",
    "        return 0\n",
    "\n",
    "if __name__ == '__main__':\n",
    "    main()"
   ]
  },
  {
   "cell_type": "markdown",
   "metadata": {},
   "source": [
    "04_multiple_returns"
   ]
  },
  {
   "cell_type": "code",
   "execution_count": null,
   "metadata": {},
   "outputs": [],
   "source": [
    "def get_user_info():\n",
    "    # Ask for user information and store them in variables\n",
    "    first_name = input(\"What is your first name?: \")\n",
    "    last_name = input(\"What is your last name?: \")\n",
    "    email_address = input(\"What is your email address?: \")\n",
    "    \n",
    "    # Return all data as a tuple\n",
    "    return first_name, last_name, email_address\n",
    "\n",
    "def main():\n",
    "    # Get user data by calling get_user_info\n",
    "    user_data = get_user_info()\n",
    "    \n",
    "    # Print the received user data\n",
    "    print(\"Received the following user data:\", user_data)\n",
    "\n",
    "\n",
    "if __name__ == \"__main__\":\n",
    "    main()"
   ]
  },
  {
   "cell_type": "markdown",
   "metadata": {},
   "source": [
    "05_subtract_7"
   ]
  },
  {
   "cell_type": "code",
   "execution_count": null,
   "metadata": {},
   "outputs": [],
   "source": [
    "def subtract_seven(num):\n",
    "    # Subtract 7 from num\n",
    "    num = num - 7\n",
    "    return num\n",
    "\n",
    "def main():\n",
    "    # Define a number, in this case, 7\n",
    "    num = 7\n",
    "    \n",
    "    # Call the subtract_seven function and store the result\n",
    "    num = subtract_seven(num)\n",
    "    \n",
    "    # Print the result\n",
    "    print(\"This should be zero:\", num)\n",
    "\n",
    "if __name__ == '__main__':\n",
    "    main()"
   ]
  }
 ],
 "metadata": {
  "kernelspec": {
   "display_name": "python12",
   "language": "python",
   "name": "python3"
  },
  "language_info": {
   "name": "python",
   "version": "3.12.3"
  }
 },
 "nbformat": 4,
 "nbformat_minor": 2
}
