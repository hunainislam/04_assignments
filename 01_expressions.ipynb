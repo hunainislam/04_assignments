{
 "cells": [
  {
   "cell_type": "markdown",
   "metadata": {},
   "source": [
    "01_dicesimulator"
   ]
  },
  {
   "cell_type": "code",
   "execution_count": null,
   "metadata": {},
   "outputs": [],
   "source": [
    "import random\n",
    "\n",
    "# Function to roll a single die\n",
    "def roll_die():\n",
    "    return random.randint(1, 6)\n",
    "\n",
    "# Function to simulate rolling two dice and returning their results\n",
    "def roll_two_dice():\n",
    "    die1 = roll_die()  # Roll the first die\n",
    "    die2 = roll_die()  # Roll the second die\n",
    "    return die1, die2\n",
    "\n",
    "# Function to simulate the rolling of two dice three times and print results\n",
    "def roll_dice_three_times():\n",
    "    rolls = []  # List to store the results of each roll\n",
    "    total_sum = 0  # Variable to track the total sum of all rolls\n",
    "    face_counts = {i: 0 for i in range(1, 7)}  # Dictionary to count the frequency of each die face\n",
    "\n",
    "    # Roll the dice three times\n",
    "    for i in range(3):\n",
    "        die1, die2 = roll_two_dice()\n",
    "        rolls.append((die1, die2))  # Store the result of this roll\n",
    "        total_sum += die1 + die2  # Add the sum of the dice to the total sum\n",
    "        face_counts[die1] += 1  # Count the face of the first die\n",
    "        face_counts[die2] += 1  # Count the face of the second die\n",
    "        \n",
    "        # Print the result of this roll\n",
    "        print(f\"Roll {i+1}: Die 1 = {die1}, Die 2 = {die2}\")\n",
    "\n",
    "    # Print statistics after all rolls\n",
    "    print(\"\\nStatistics:\")\n",
    "    print(f\"Total sum of all rolls: {total_sum}\")\n",
    "    print(\"Frequency of each die face:\")\n",
    "    for face, count in face_counts.items():\n",
    "        print(f\"Face {face}: {count} times\")\n",
    "\n",
    "# Main function that runs the program\n",
    "def main():\n",
    "    print(\"Simulating rolling two dice three times...\\n\")\n",
    "    roll_dice_three_times()\n",
    "\n",
    "\n",
    "if __name__ == '__main__':\n",
    "    main()"
   ]
  },
  {
   "cell_type": "markdown",
   "metadata": {},
   "source": [
    "02_e=mc2"
   ]
  },
  {
   "cell_type": "code",
   "execution_count": null,
   "metadata": {},
   "outputs": [],
   "source": [
    "def main():\n",
    "    # Constant for the speed of light in meters per second\n",
    "    c = 299792458  # m/s\n",
    "\n",
    "    # Prompt the user for the mass in kilograms\n",
    "    mass = float(input(\"Enter kilos of mass: \"))\n",
    "\n",
    "    # Calculate the energy using Einstein's formula\n",
    "    energy = mass * c ** 2\n",
    "\n",
    "    # Output the result in the required format\n",
    "    print(\"\\nE = m * C^2...\\n\")\n",
    "    print(f\"m = {mass} kg\")\n",
    "    print(f\"C = {c} m/s\")\n",
    "    print(f\"{energy} joules of energy!\")\n",
    "\n",
    "\n",
    "if __name__ == '__main__':\n",
    "    main()"
   ]
  },
  {
   "cell_type": "markdown",
   "metadata": {},
   "source": [
    "03_feet_to_inches"
   ]
  },
  {
   "cell_type": "code",
   "execution_count": null,
   "metadata": {},
   "outputs": [],
   "source": [
    "def main():\n",
    "    # Prompt the user for the number of feet\n",
    "    feet = float(input(\"Enter the number of feet: \"))\n",
    "    \n",
    "    # Convert feet to inches (1 foot = 12 inches)\n",
    "    inches = feet * 12\n",
    "    \n",
    "    # Output the result\n",
    "    print(f\"{feet} feet is equal to {inches} inches.\")\n",
    "\n",
    "\n",
    "if __name__ == '__main__':\n",
    "    main()"
   ]
  },
  {
   "cell_type": "markdown",
   "metadata": {},
   "source": [
    "04_pythagorean_theorem"
   ]
  },
  {
   "cell_type": "code",
   "execution_count": null,
   "metadata": {},
   "outputs": [],
   "source": [
    "import math\n",
    "\n",
    "def main():\n",
    "    # Prompt the user for the lengths of the two perpendicular sides\n",
    "    AB = float(input(\"Enter the length of AB: \"))  # Side AB\n",
    "    AC = float(input(\"Enter the length of AC: \"))  # Side AC\n",
    "    \n",
    "    # Apply the Pythagorean theorem to calculate the hypotenuse BC\n",
    "    BC = math.sqrt(AB**2 + AC**2)\n",
    "    \n",
    "    # Output the length of the hypotenuse\n",
    "    print(f\"The length of BC (the hypotenuse) is: {BC}\")\n",
    "\n",
    "\n",
    "if __name__ == '__main__':\n",
    "    main()"
   ]
  },
  {
   "cell_type": "markdown",
   "metadata": {},
   "source": [
    "05_remainder_division"
   ]
  },
  {
   "cell_type": "code",
   "execution_count": null,
   "metadata": {},
   "outputs": [],
   "source": [
    "def main():\n",
    "    # Prompt the user for the first number (integer to be divided)\n",
    "    dividend = int(input(\"Please enter an integer to be divided: \"))\n",
    "    \n",
    "    # Prompt the user for the second number (integer to divide by)\n",
    "    divisor = int(input(\"Please enter an integer to divide by: \"))\n",
    "    \n",
    "    # Perform the division and calculate the quotient and remainder\n",
    "    quotient = dividend // divisor\n",
    "    remainder = dividend % divisor\n",
    "    \n",
    "    # Print the result\n",
    "    print(f\"The result of this division is {quotient} with a remainder of {remainder}\")\n",
    "\n",
    "\n",
    "if __name__ == '__main__':\n",
    "    main()"
   ]
  },
  {
   "cell_type": "markdown",
   "metadata": {},
   "source": [
    "06_rolldice"
   ]
  },
  {
   "cell_type": "code",
   "execution_count": null,
   "metadata": {},
   "outputs": [],
   "source": [
    "import random\n",
    "\n",
    "# Number of sides on each die to roll\n",
    "NUM_SIDES: int = 6\n",
    "\n",
    "def main():\n",
    "    # Roll die\n",
    "    die1: int = random.randint(1, NUM_SIDES)\n",
    "    die2: int = random.randint(1, NUM_SIDES)\n",
    "    \n",
    "    # Get their total\n",
    "    total: int = die1 + die2\n",
    "    \n",
    "    # Print out the results\n",
    "    print(\"Dice have\", NUM_SIDES, \"sides each.\")\n",
    "    print(\"First die:\", die1)\n",
    "    print(\"Second die:\", die2)\n",
    "    print(\"Total of two dice:\", total)\n",
    "\n",
    "\n",
    "if __name__ == '__main__':\n",
    "    main()"
   ]
  },
  {
   "cell_type": "markdown",
   "metadata": {},
   "source": [
    "06_seconds_in_year"
   ]
  },
  {
   "cell_type": "code",
   "execution_count": null,
   "metadata": {},
   "outputs": [],
   "source": [
    "# Useful constants to help make the math easier and cleaner!\n",
    "DAYS_PER_YEAR: int = 365\n",
    "HOURS_PER_DAY: int = 24\n",
    "MIN_PER_HOUR: int = 60\n",
    "SEC_PER_MIN: int = 60\n",
    "\n",
    "def main():\n",
    "    # We can get the number of seconds per year by multiplying the handy constants above!\n",
    "    total_seconds = DAYS_PER_YEAR * HOURS_PER_DAY * MIN_PER_HOUR * SEC_PER_MIN\n",
    "    print(\"There are \" + str(total_seconds) + \" seconds in a year!\")\n",
    "\n",
    "\n",
    "if __name__ == '__main__':\n",
    "    main()"
   ]
  },
  {
   "cell_type": "markdown",
   "metadata": {},
   "source": [
    "07_tiny_mad_lib"
   ]
  },
  {
   "cell_type": "code",
   "execution_count": null,
   "metadata": {},
   "outputs": [],
   "source": [
    "def main():\n",
    "    # Prompt the user for an adjective, noun, and verb\n",
    "    adjective = input(\"Please type an adjective and press enter: \")\n",
    "    noun = input(\"Please type a noun and press enter: \")\n",
    "    verb = input(\"Please type a verb and press enter: \")\n",
    "\n",
    "    # Construct the sentence using the user inputs\n",
    "    sentence = f\"Code in Place is fun. I learned to program and used Python to make my {adjective} {noun} {verb}!\"\n",
    "\n",
    "    # Print the resulting sentence\n",
    "    print(sentence)\n",
    "\n",
    "\n",
    "if __name__ == '__main__':\n",
    "    main()"
   ]
  }
 ],
 "metadata": {
  "kernelspec": {
   "display_name": "python12",
   "language": "python",
   "name": "python3"
  },
  "language_info": {
   "name": "python",
   "version": "3.12.3"
  }
 },
 "nbformat": 4,
 "nbformat_minor": 2
}
